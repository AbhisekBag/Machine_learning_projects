{
 "cells": [
  {
   "cell_type": "markdown",
   "id": "79eceb79",
   "metadata": {},
   "source": [
    "# Simple Linear Regression\n",
    "\n",
    "Simple Linear Regression is a type of Regression algorithms that models the relationship between a dependent variable and a single independent variable. The relationship shown by a Simple Linear Regression model is linear or a sloped straight line, hence it is called Simple Linear Regression."
   ]
  },
  {
   "cell_type": "markdown",
   "id": "b0519101",
   "metadata": {},
   "source": [
    "### Let's first import all the required packages\n",
    "\n",
    "<b>numpy</b>: for working with arrays  \n",
    "<b>matplotlib</b>: for plotting purposes  \n",
    "<b>pandas</b>: for working with dataframes  \n",
    "<b>sklearn</b>: our go to tool for applying various machine learning in built models; scikit learn.  \n",
    "<b>sklearn.linear_model</b>: for importing <span style='color:violet'>LinearRegression</span> which will do the fitting  \n",
    "<b>sklear.model_selection</b>: for importing <span style='color:violet'>train_test_split</span>; which will split the dataset into train and test data  "
   ]
  },
  {
   "cell_type": "code",
   "execution_count": 1,
   "id": "ff5b7403",
   "metadata": {},
   "outputs": [],
   "source": [
    "import numpy as np\n",
    "import matplotlib.pyplot as plt \n",
    "import pandas as pd\n",
    "from sklearn.linear_model import LinearRegression\n",
    "from sklearn.model_selection import train_test_split"
   ]
  },
  {
   "cell_type": "markdown",
   "id": "8f78295d",
   "metadata": {},
   "source": [
    "### Now let's import the dataset\n",
    "\n",
    "This dataset contains salary of employees and their respective years of experience"
   ]
  },
  {
   "cell_type": "code",
   "execution_count": 2,
   "id": "6b33de0f",
   "metadata": {},
   "outputs": [],
   "source": [
    "df = pd.read_csv('Salary_Data.csv')"
   ]
  },
  {
   "cell_type": "code",
   "execution_count": 3,
   "id": "c445362f",
   "metadata": {
    "scrolled": true
   },
   "outputs": [
    {
     "data": {
      "text/html": [
       "<div>\n",
       "<style scoped>\n",
       "    .dataframe tbody tr th:only-of-type {\n",
       "        vertical-align: middle;\n",
       "    }\n",
       "\n",
       "    .dataframe tbody tr th {\n",
       "        vertical-align: top;\n",
       "    }\n",
       "\n",
       "    .dataframe thead th {\n",
       "        text-align: right;\n",
       "    }\n",
       "</style>\n",
       "<table border=\"1\" class=\"dataframe\">\n",
       "  <thead>\n",
       "    <tr style=\"text-align: right;\">\n",
       "      <th></th>\n",
       "      <th>YearsExperience</th>\n",
       "      <th>Salary</th>\n",
       "    </tr>\n",
       "  </thead>\n",
       "  <tbody>\n",
       "    <tr>\n",
       "      <th>0</th>\n",
       "      <td>1.1</td>\n",
       "      <td>39343.0</td>\n",
       "    </tr>\n",
       "    <tr>\n",
       "      <th>1</th>\n",
       "      <td>1.3</td>\n",
       "      <td>46205.0</td>\n",
       "    </tr>\n",
       "    <tr>\n",
       "      <th>2</th>\n",
       "      <td>1.5</td>\n",
       "      <td>37731.0</td>\n",
       "    </tr>\n",
       "    <tr>\n",
       "      <th>3</th>\n",
       "      <td>2.0</td>\n",
       "      <td>43525.0</td>\n",
       "    </tr>\n",
       "    <tr>\n",
       "      <th>4</th>\n",
       "      <td>2.2</td>\n",
       "      <td>39891.0</td>\n",
       "    </tr>\n",
       "  </tbody>\n",
       "</table>\n",
       "</div>"
      ],
      "text/plain": [
       "   YearsExperience   Salary\n",
       "0              1.1  39343.0\n",
       "1              1.3  46205.0\n",
       "2              1.5  37731.0\n",
       "3              2.0  43525.0\n",
       "4              2.2  39891.0"
      ]
     },
     "execution_count": 3,
     "metadata": {},
     "output_type": "execute_result"
    }
   ],
   "source": [
    "df.head()"
   ]
  },
  {
   "cell_type": "markdown",
   "id": "c76574b4",
   "metadata": {},
   "source": [
    "#### x will contain all the independent variables whereas y will contain only the target/dependant variable."
   ]
  },
  {
   "cell_type": "code",
   "execution_count": 4,
   "id": "f2e6a27f",
   "metadata": {},
   "outputs": [],
   "source": [
    "x = df.drop('Salary',axis=1)\n",
    "y = df['Salary']"
   ]
  },
  {
   "cell_type": "markdown",
   "id": "c3de43bc",
   "metadata": {},
   "source": [
    "#### Now let us split the dataset in 80% for training purpose and the rest 20% for testing purpose. For that we will use <span style='color:violet'>train_test_split</span> method.  \n",
    "The random state hyperparameter in the train_test_split() function controls the shuffling process. With random_state=None , we get different train and test sets across different executions and the shuffling process is out of control. With random_state=0 , we get the same train and test sets across different executions"
   ]
  },
  {
   "cell_type": "code",
   "execution_count": 5,
   "id": "89e1defa",
   "metadata": {},
   "outputs": [],
   "source": [
    "x_train,x_test,y_train,y_test = train_test_split(x,y,test_size = 0.2,random_state = 0)"
   ]
  },
  {
   "cell_type": "markdown",
   "id": "d87f46c4",
   "metadata": {},
   "source": [
    "<span style='color:violet'>LinearRegression</span> fits a linear model with coefficients w = (w1, …, wp) to minimize the <b>residual sum of squares</b> between the observed targets in the dataset, and the targets predicted by the linear approximation. We will always use <span style='color:violet'>(x_train,y_train)</span> in this order within the the <b>.fit</b> command."
   ]
  },
  {
   "cell_type": "code",
   "execution_count": 6,
   "id": "809d8a15",
   "metadata": {},
   "outputs": [
    {
     "data": {
      "text/plain": [
       "LinearRegression()"
      ]
     },
     "execution_count": 6,
     "metadata": {},
     "output_type": "execute_result"
    }
   ],
   "source": [
    "rg = LinearRegression()\n",
    "rg.fit(x_train,y_train)"
   ]
  },
  {
   "cell_type": "markdown",
   "id": "bb0bba9a",
   "metadata": {},
   "source": [
    "<span style='color:violet'>.predict</span> will now give the predictions by the model after training. We check using <span style='color:violet'>x_train</span>, the prediction <span style='color:violet'>x_pred</span> is our linear fit and for <span style='color:violet'>x_test</span> the prediction <span style='color:violet'>y_pred</span> should be close to <span style='color:violet'>y_test</span>."
   ]
  },
  {
   "cell_type": "code",
   "execution_count": 7,
   "id": "d61032a2",
   "metadata": {},
   "outputs": [],
   "source": [
    "x_pred = rg.predict(x_train)\n",
    "y_pred = rg.predict(x_test)"
   ]
  },
  {
   "cell_type": "code",
   "execution_count": 8,
   "id": "98a1b1a3",
   "metadata": {},
   "outputs": [
    {
     "data": {
      "text/plain": [
       "[<matplotlib.lines.Line2D at 0x7f877c86bd30>]"
      ]
     },
     "execution_count": 8,
     "metadata": {},
     "output_type": "execute_result"
    },
    {
     "data": {
      "image/png": "[encoded data removed]",
      "text/plain": [
       "<Figure size 432x288 with 1 Axes>"
      ]
     },
     "metadata": {
      "needs_background": "light"
     },
     "output_type": "display_data"
    }
   ],
   "source": [
    "plt.scatter(x_train,y_train) # this is how our training target variable looks like \n",
    "                             # for the variation in tarin independent variable\n",
    "    \n",
    "plt.plot(x_train,x_pred,'r') # this is our linear fit"
   ]
  },
  {
   "cell_type": "code",
   "execution_count": 9,
   "id": "68fb94fe",
   "metadata": {},
   "outputs": [
    {
     "data": {
      "text/plain": [
       "[<matplotlib.lines.Line2D at 0x7f877ca23e50>]"
      ]
     },
     "execution_count": 9,
     "metadata": {},
     "output_type": "execute_result"
    },
    {
     "data": {
      "image/png": "[encoded data removed]",
      "text/plain": [
       "<Figure size 432x288 with 1 Axes>"
      ]
     },
     "metadata": {
      "needs_background": "light"
     },
     "output_type": "display_data"
    }
   ],
   "source": [
    "plt.scatter(x_test,y_test)   # this is how our test target variable looks like \n",
    "                             # for the variation in test independent variable\n",
    "    \n",
    "plt.plot(x_train,x_pred,'r') # this is our linear fit for checking"
   ]
  },
  {
   "cell_type": "code",
   "execution_count": 10,
   "id": "80f554f5",
   "metadata": {},
   "outputs": [
    {
     "data": {
      "text/plain": [
       "<matplotlib.collections.PathCollection at 0x7f877cadbfa0>"
      ]
     },
     "execution_count": 10,
     "metadata": {},
     "output_type": "execute_result"
    },
    {
     "data": {
      "image/png": "[encoded data removed]",
      "text/plain": [
       "<Figure size 432x288 with 1 Axes>"
      ]
     },
     "metadata": {
      "needs_background": "light"
     },
     "output_type": "display_data"
    }
   ],
   "source": [
    "plt.scatter(y_pred,y_test) # this our prediction vs actual values in the target variables"
   ]
  },
  {
   "cell_type": "markdown",
   "id": "af67ff10",
   "metadata": {},
   "source": [
    "## Our model has been trained well and is predicting well"
   ]
  },
  {
   "cell_type": "code",
   "execution_count": null,
   "id": "c5fb73a5",
   "metadata": {},
   "outputs": [],
   "source": []
  }
 ],
 "metadata": {
  "kernelspec": {
   "display_name": "Python 3",
   "language": "python",
   "name": "python3"
  },
  "language_info": {
   "codemirror_mode": {
    "name": "ipython",
    "version": 3
   },
   "file_extension": ".py",
   "mimetype": "text/x-python",
   "name": "python",
   "nbconvert_exporter": "python",
   "pygments_lexer": "ipython3",
   "version": "3.8.8"
  }
 },
 "nbformat": 4,
 "nbformat_minor": 5
}
